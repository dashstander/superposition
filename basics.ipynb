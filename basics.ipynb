{
 "cells": [
  {
   "cell_type": "code",
   "execution_count": 1,
   "id": "048d153a-8a69-488c-877b-45a12640327e",
   "metadata": {},
   "outputs": [],
   "source": [
    "import torch\n",
    "from dataclasses import dataclass\n"
   ]
  },
  {
   "cell_type": "code",
   "execution_count": 17,
   "id": "1bb3970f-3948-4bbe-a099-d98f434a3b18",
   "metadata": {},
   "outputs": [],
   "source": [
    "from torch import nn\n",
    "from torch.nn.functional import relu\n",
    "\n",
    "@dataclass\n",
    "class Config:\n",
    "    n_features: int\n",
    "    n_hidden: int\n",
    "\n",
    "  # We optimize n_instances models in a single training loop\n",
    "  # to let us sweep over sparsity or importance curves\n",
    "  # efficiently.\n",
    "\n",
    "\n",
    "\n",
    "class DataGenerator:\n",
    "\n",
    "    def __init__(self, n_features, feature_probability, importance, device):\n",
    "        self.n_features = n_features\n",
    "        self.device = device\n",
    "\n",
    "        if feature_probability is None:\n",
    "            feature_probability = torch.ones(())\n",
    "        self.feature_probability = feature_probability\n",
    "        \n",
    "        if importance is None:\n",
    "            importance = torch.ones(())\n",
    "    \n",
    "        self.importance = importance.to(device)\n",
    "        self.feature_probability = feature_probability.to(device)\n",
    "    \n",
    "\n",
    "    def generate_batch(self, n_batch):\n",
    "        feat = torch.rand((n_batch, self.n_features), device=self.device)\n",
    "        batch = torch.where(\n",
    "            torch.rand((n_batch, self.n_features), device=self.device) <= self.feature_probability,\n",
    "            feat,\n",
    "            torch.zeros((), device=self.device),\n",
    "        )\n",
    "        return batch\n",
    "\n",
    "\n",
    "class Model(nn.Module):\n",
    "    def __init__(\n",
    "        self, \n",
    "        config, \n",
    "        device='cuda'\n",
    "    ):\n",
    "        super().__init__()\n",
    "        self.config = config\n",
    "        self.W = nn.Parameter(\n",
    "            torch.empty((config.n_features, config.n_hidden), device=device)\n",
    "        )\n",
    "        nn.init.xavier_normal_(self.W)\n",
    "        self.b = nn.Parameter(torch.zeros((config.n_features), device=device))\n",
    "\n",
    "\n",
    "    \n",
    "    def forward(self, features):\n",
    "        # features: [..., n_features]\n",
    "        # W: [n_features, n_hidden]\n",
    "        hidden = features @ self.W\n",
    "        out = (hidden @ self.W.T) + self.b\n",
    "        return relu(out)\n",
    "\n",
    "  "
   ]
  },
  {
   "cell_type": "code",
   "execution_count": 18,
   "id": "4299dbad-746b-429b-a0d1-ff2b99cad18e",
   "metadata": {},
   "outputs": [],
   "source": [
    "n_features = 24\n",
    "n_hidden = 8\n",
    "device = 'cuda:0'\n",
    "\n",
    "probs = torch.ones((24,)) * .2\n",
    "\n",
    "config = Config(n_features, n_hidden)\n",
    "generator = DataGenerator(n_features, probs, None, device)\n"
   ]
  },
  {
   "cell_type": "code",
   "execution_count": 19,
   "id": "7c98fd13-7c9a-4d2c-914c-10116aa7d8da",
   "metadata": {},
   "outputs": [],
   "source": [
    "model = Model(config, device)"
   ]
  },
  {
   "cell_type": "code",
   "execution_count": 20,
   "id": "46e5cb0c-9ef7-4459-8757-e4aeffface60",
   "metadata": {},
   "outputs": [
    {
     "data": {
      "text/plain": [
       "tensor([[0.3108, 0.0932, 0.0000,  ..., 0.3805, 0.0000, 0.0000],\n",
       "        [0.1109, 0.0000, 0.0000,  ..., 0.0000, 0.0000, 0.0000],\n",
       "        [0.0000, 0.0774, 0.0638,  ..., 0.0000, 0.0094, 0.0000],\n",
       "        ...,\n",
       "        [0.0077, 0.0000, 0.3032,  ..., 0.1546, 0.1707, 0.0857],\n",
       "        [0.0000, 0.0000, 0.0109,  ..., 0.0000, 0.0403, 0.0240],\n",
       "        [0.0022, 0.0000, 0.0000,  ..., 0.0000, 0.0000, 0.0000]],\n",
       "       device='cuda:0', grad_fn=<ReluBackward0>)"
      ]
     },
     "execution_count": 20,
     "metadata": {},
     "output_type": "execute_result"
    }
   ],
   "source": [
    "batch = generator.generate_batch(100)\n",
    "model(batch)"
   ]
  },
  {
   "cell_type": "code",
   "execution_count": null,
   "id": "d4484ef2-a119-4b3a-ab31-5358ddd094c8",
   "metadata": {},
   "outputs": [],
   "source": []
  }
 ],
 "metadata": {
  "kernelspec": {
   "display_name": "Python 3 (ipykernel)",
   "language": "python",
   "name": "python3"
  },
  "language_info": {
   "codemirror_mode": {
    "name": "ipython",
    "version": 3
   },
   "file_extension": ".py",
   "mimetype": "text/x-python",
   "name": "python",
   "nbconvert_exporter": "python",
   "pygments_lexer": "ipython3",
   "version": "3.10.4"
  }
 },
 "nbformat": 4,
 "nbformat_minor": 5
}
